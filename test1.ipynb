{
 "cells": [
  {
   "cell_type": "code",
   "execution_count": 1,
   "id": "77f1e7c4",
   "metadata": {},
   "outputs": [
    {
     "name": "stdout",
     "output_type": "stream",
     "text": [
      "{'name': 'Mrinmoy', 'code': 1234567}\n"
     ]
    }
   ],
   "source": [
    "##Dictionary\n",
    "people={\n",
    "\t\"name\":\"Mrinmoy\",\n",
    "\t\"code\":1234567\n",
    "}\n",
    "print(people)"
   ]
  },
  {
   "cell_type": "code",
   "execution_count": 2,
   "id": "57d6e757",
   "metadata": {},
   "outputs": [
    {
     "name": "stdout",
     "output_type": "stream",
     "text": [
      "Hello\n"
     ]
    }
   ],
   "source": [
    "print(\"Hello\")"
   ]
  },
  {
   "cell_type": "code",
   "execution_count": 3,
   "id": "ec073526",
   "metadata": {},
   "outputs": [
    {
     "name": "stdout",
     "output_type": "stream",
     "text": [
      "Mrinmoy\n"
     ]
    }
   ],
   "source": [
    "##accessing dictionary\n",
    "people={\n",
    "\t\"name\":\"Mrinmoy\",\n",
    "\t\"code\":1234567\n",
    "}\n",
    "print(people[\"name\"])"
   ]
  },
  {
   "cell_type": "code",
   "execution_count": 10,
   "id": "97d6366f",
   "metadata": {},
   "outputs": [
    {
     "data": {
      "text/plain": [
       "'Not Available'"
      ]
     },
     "execution_count": 10,
     "metadata": {},
     "output_type": "execute_result"
    }
   ],
   "source": [
    "people={\n",
    "\t\"name\":\"Mrinmoy\",\n",
    "\t\"code\":1234567,\n",
    "\t\"grade\":\"A\"\n",
    "\n",
    "}\n",
    "people.get(\"grade\")\n",
    "people.get(\"age\",\"Not Available\")\n"
   ]
  },
  {
   "cell_type": "code",
   "execution_count": 11,
   "id": "46edf049",
   "metadata": {},
   "outputs": [
    {
     "name": "stdout",
     "output_type": "stream",
     "text": [
      "{'name': 'Mrinmoy', 'code': 1234567, 'grade': 'A'}\n"
     ]
    }
   ],
   "source": [
    "print(people)"
   ]
  },
  {
   "cell_type": "code",
   "execution_count": null,
   "id": "6b927c84",
   "metadata": {},
   "outputs": [
    {
     "name": "stdout",
     "output_type": "stream",
     "text": [
      "{'name': 'Mrinmoy Adhikary', 'code': 1234567, 'grade': 'A', 'Culture': 'Assamese'}\n"
     ]
    }
   ],
   "source": [
    "people[\"name\"]=\"Mrinmoy Adhikary\"##update\n",
    "people[\"Culture\"]=\"Assamese\"## add new key\n",
    "print(people)"
   ]
  },
  {
   "cell_type": "code",
   "execution_count": 13,
   "id": "af747bca",
   "metadata": {},
   "outputs": [
    {
     "name": "stdout",
     "output_type": "stream",
     "text": [
      "{'name': 'Mrinmoy Adhikary', 'grade': 'A', 'Culture': 'Assamese'}\n"
     ]
    }
   ],
   "source": [
    "##delete\n",
    "del people[\"code\"]\n",
    "print(people)"
   ]
  },
  {
   "cell_type": "code",
   "execution_count": 16,
   "id": "e850003d",
   "metadata": {},
   "outputs": [
    {
     "name": "stdout",
     "output_type": "stream",
     "text": [
      "dict_keys(['name', 'code', 'grade', 'Culture'])\n",
      "dict_values(['Mrinmoy Adhikary', 1234567, 'A', 'Assamese'])\n",
      "dict_items([('name', 'Mrinmoy Adhikary'), ('code', 1234567), ('grade', 'A'), ('Culture', 'Assamese')])\n"
     ]
    }
   ],
   "source": [
    "##Dictionary method\n",
    "student={'name': 'Mrinmoy Adhikary', 'code': 1234567, 'grade': 'A', 'Culture': 'Assamese'}\n",
    "print(student.keys())\n",
    "value=student.values()\n",
    "print(value)\n",
    "item=student.items()\n",
    "print(item)"
   ]
  },
  {
   "cell_type": "code",
   "execution_count": null,
   "id": "15b5df2c",
   "metadata": {},
   "outputs": [
    {
     "name": "stdout",
     "output_type": "stream",
     "text": [
      "{'name': 'Babu', 'code': 1234567, 'grade': 'A', 'Culture': 'Assamese'}\n",
      "{'name': 'Babu', 'code': 1234567, 'grade': 'A', 'Culture': 'Assamese'}\n"
     ]
    }
   ],
   "source": [
    "##shalow copy, here is issue both have name change , so need shallow copy\n",
    "student_copy=student\n",
    "student_copy[\"name\"]=\"Babu\"\n",
    "print(student_copy)\n",
    "print(student)"
   ]
  },
  {
   "cell_type": "code",
   "execution_count": null,
   "id": "c164224a",
   "metadata": {},
   "outputs": [
    {
     "name": "stdout",
     "output_type": "stream",
     "text": [
      "{'name': 'Tony', 'code': 1234567, 'grade': 'A', 'Culture': 'Assamese'}\n",
      "{'name': 'Babu', 'code': 1234567, 'grade': 'A', 'Culture': 'Assamese'}\n"
     ]
    }
   ],
   "source": [
    "##here student and student2 are different obj, both have different memory address \n",
    "student2=student.copy()## shallow copy, \n",
    "student2[\"name\"]=\"Tony\"\n",
    "print(student2)\n",
    "print(student)\n"
   ]
  },
  {
   "cell_type": "code",
   "execution_count": 19,
   "id": "6ef4f38c",
   "metadata": {},
   "outputs": [
    {
     "name": "stdout",
     "output_type": "stream",
     "text": [
      "name\n",
      "code\n",
      "grade\n",
      "Culture\n"
     ]
    }
   ],
   "source": [
    "##iterate over key\n",
    "for keys in student.keys():\n",
    "\tprint(keys)"
   ]
  },
  {
   "cell_type": "code",
   "execution_count": 20,
   "id": "6ca7820f",
   "metadata": {},
   "outputs": [
    {
     "name": "stdout",
     "output_type": "stream",
     "text": [
      "name\n",
      "code\n",
      "grade\n",
      "Culture\n"
     ]
    }
   ],
   "source": [
    "for keys in student:\n",
    "\tprint(keys)"
   ]
  },
  {
   "cell_type": "code",
   "execution_count": 21,
   "id": "f2ad19cc",
   "metadata": {},
   "outputs": [
    {
     "name": "stdout",
     "output_type": "stream",
     "text": [
      "Babu\n",
      "1234567\n",
      "A\n",
      "Assamese\n"
     ]
    }
   ],
   "source": [
    "for value in student.values():\n",
    "\tprint(value)"
   ]
  },
  {
   "cell_type": "code",
   "execution_count": 22,
   "id": "6e956ed9",
   "metadata": {},
   "outputs": [
    {
     "name": "stdout",
     "output_type": "stream",
     "text": [
      "name:Babu\n",
      "code:1234567\n",
      "grade:A\n",
      "Culture:Assamese\n"
     ]
    }
   ],
   "source": [
    "for key, value in student.items():\n",
    "\tprint(f\"{key}:{value}\")"
   ]
  },
  {
   "cell_type": "code",
   "execution_count": 23,
   "id": "a0148e5f",
   "metadata": {},
   "outputs": [
    {
     "name": "stdout",
     "output_type": "stream",
     "text": [
      "20\n"
     ]
    }
   ],
   "source": [
    "##Nested dictionary\n",
    "student={\n",
    "\t\"student1\":{\"name\":\"Chakra\", \"age\":20},\n",
    "\t\"student2\":{\"name\":\"roy\", \"age\":21}\n",
    "}\n",
    "print(student[\"student1\"][\"age\"])"
   ]
  },
  {
   "cell_type": "code",
   "execution_count": 24,
   "id": "99cfa149",
   "metadata": {},
   "outputs": [
    {
     "name": "stdout",
     "output_type": "stream",
     "text": [
      "student1:{'name': 'Chakra', 'age': 20}\n",
      "student2:{'name': 'roy', 'age': 21}\n"
     ]
    }
   ],
   "source": [
    "for id, info in student.items():\n",
    "\tprint(f\"{id}:{info}\")"
   ]
  },
  {
   "cell_type": "code",
   "execution_count": 25,
   "id": "b0dbef0e",
   "metadata": {},
   "outputs": [
    {
     "name": "stdout",
     "output_type": "stream",
     "text": [
      "student1:{'name': 'Chakra', 'age': 20}\n",
      "name:Chakra\n",
      "age:20\n",
      "student2:{'name': 'roy', 'age': 21}\n",
      "name:roy\n",
      "age:21\n"
     ]
    }
   ],
   "source": [
    "for id, info in student.items():\n",
    "\tprint(f\"{id}:{info}\")\n",
    "\tfor key, val in info.items():\n",
    "\t\tprint(f\"{key}:{val}\")"
   ]
  },
  {
   "cell_type": "code",
   "execution_count": null,
   "id": "2e4b4e6e",
   "metadata": {},
   "outputs": [
    {
     "name": "stdout",
     "output_type": "stream",
     "text": [
      "{0: 0, 1: 1, 2: 4, 3: 9, 4: 16}\n"
     ]
    }
   ],
   "source": [
    "## dictionary comprehension\n",
    "##x is key and x**2 is value\n",
    "square={x:x**2 for x in range(5)}\n",
    "print(square)"
   ]
  },
  {
   "cell_type": "code",
   "execution_count": 27,
   "id": "fc4fc3d4",
   "metadata": {},
   "outputs": [
    {
     "name": "stdout",
     "output_type": "stream",
     "text": [
      "{0: 0, 2: 4, 4: 16, 6: 36, 8: 64}\n"
     ]
    }
   ],
   "source": [
    "even={x:x**2 for x in range(10) if x%2==0}\n",
    "print(even)"
   ]
  },
  {
   "cell_type": "code",
   "execution_count": 28,
   "id": "a0aba87b",
   "metadata": {},
   "outputs": [
    {
     "ename": "SyntaxError",
     "evalue": "cannot assign to dict comprehension (140474153.py, line 3)",
     "output_type": "error",
     "traceback": [
      "  \u001b[36mCell\u001b[39m\u001b[36m \u001b[39m\u001b[32mIn[28]\u001b[39m\u001b[32m, line 3\u001b[39m\n\u001b[31m    \u001b[39m\u001b[31mfor{x:num.count(x) for x in num}:\u001b[39m\n       ^\n\u001b[31mSyntaxError\u001b[39m\u001b[31m:\u001b[39m cannot assign to dict comprehension\n"
     ]
    }
   ],
   "source": [
    "##use the dictionary to count the frequency in a list\n",
    "num=[1,2,2,3,3,3,3,4,4,5]\n",
    "for{x:num.count(x) for x in num}:\n",
    "    print(x, num.count(x))"
   ]
  },
  {
   "cell_type": "code",
   "execution_count": 29,
   "id": "01bb4302",
   "metadata": {},
   "outputs": [
    {
     "name": "stdout",
     "output_type": "stream",
     "text": [
      "{1: 1, 2: 2, 3: 4, 4: 2, 5: 1}\n"
     ]
    }
   ],
   "source": [
    "num=[1,2,2,3,3,3,3,4,4,5]\n",
    "freq={}\n",
    "for x in num:\n",
    "\tif x in freq:\n",
    "\t\tfreq[x]+=1\n",
    "\telse:\n",
    "\t\tfreq[x]=1\n",
    "print(freq)\n"
   ]
  },
  {
   "cell_type": "code",
   "execution_count": 30,
   "id": "b94bcb93",
   "metadata": {},
   "outputs": [
    {
     "name": "stdout",
     "output_type": "stream",
     "text": [
      "{'a': 1, 'b': 2, 'c': 3, 'd': 4}\n"
     ]
    }
   ],
   "source": [
    "##merge 2 dictionary into 1\n",
    "dict1={\"a\":1, \"b\":2}\n",
    "dict2={\"c\":3, \"d\":4}\n",
    "merge_dict={**dict1, **dict2}\n",
    "print(merge_dict)"
   ]
  },
  {
   "cell_type": "code",
   "execution_count": 31,
   "id": "1b5ad749",
   "metadata": {},
   "outputs": [
    {
     "name": "stdout",
     "output_type": "stream",
     "text": [
      "['fresh', 'learn python', 'learn DSA']\n"
     ]
    }
   ],
   "source": [
    "todo=[\"fresh\", \"learn python\",]\n",
    "todo.append(\"learn DSA\")\n",
    "print(todo)"
   ]
  },
  {
   "cell_type": "code",
   "execution_count": 32,
   "id": "016df59b",
   "metadata": {},
   "outputs": [
    {
     "name": "stdout",
     "output_type": "stream",
     "text": [
      "['learn python', 'learn DSA']\n"
     ]
    }
   ],
   "source": [
    "todo=[\"fresh\", \"learn python\",]\n",
    "todo.append(\"learn DSA\")\n",
    "todo.remove(\"fresh\")\n",
    "print(todo)"
   ]
  },
  {
   "cell_type": "code",
   "execution_count": null,
   "id": "cd8ba5c4",
   "metadata": {},
   "outputs": [],
   "source": [
    "todo=[\"fresh\", \"learn python\",]\n",
    "todo.append(\"learn DSA\")\n",
    "todo.remove(\"fresh\")\n",
    "if \"learn python\" in todo:\n",
    "\ttodo.remove(\"lear python\")\n",
    "print(todo)"
   ]
  },
  {
   "cell_type": "code",
   "execution_count": 33,
   "id": "23f76c85",
   "metadata": {},
   "outputs": [
    {
     "name": "stdout",
     "output_type": "stream",
     "text": [
      "average grade:84.83333333333333\n"
     ]
    }
   ],
   "source": [
    "grade=[77,88,65,89,90,100]\n",
    "average=sum(grade)/len(grade)\n",
    "print(f\"average grade:{average}\")\n",
    "heighest=max(grade)\n",
    "lessest=min(grade)"
   ]
  },
  {
   "cell_type": "code",
   "execution_count": null,
   "id": "255d648d",
   "metadata": {},
   "outputs": [],
   "source": []
  }
 ],
 "metadata": {
  "kernelspec": {
   "display_name": "Python 3",
   "language": "python",
   "name": "python3"
  },
  "language_info": {
   "codemirror_mode": {
    "name": "ipython",
    "version": 3
   },
   "file_extension": ".py",
   "mimetype": "text/x-python",
   "name": "python",
   "nbconvert_exporter": "python",
   "pygments_lexer": "ipython3",
   "version": "3.12.0"
  }
 },
 "nbformat": 4,
 "nbformat_minor": 5
}
