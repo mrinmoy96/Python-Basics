{
 "cells": [
  {
   "cell_type": "code",
   "execution_count": 3,
   "id": "c36ea02a",
   "metadata": {},
   "outputs": [
    {
     "name": "stdout",
     "output_type": "stream",
     "text": [
      "Even\n"
     ]
    }
   ],
   "source": [
    "def even_or_odd(num):\n",
    "\tif num%2==0:\n",
    "\t\tprint(\"Even\")\n",
    "\telse:\n",
    "\t\tprint(\"Odd\")\t\n",
    "even_or_odd(28)\t\t"
   ]
  },
  {
   "cell_type": "code",
   "execution_count": 2,
   "id": "d2a4499b",
   "metadata": {},
   "outputs": [
    {
     "name": "stdout",
     "output_type": "stream",
     "text": [
      "Odd\n"
     ]
    }
   ],
   "source": [
    "def even_or_odd(num):\n",
    "\tif num%2==0:\n",
    "\t\tprint(\"Even\")\n",
    "\telse:\n",
    "\t\tprint(\"Odd\")\t\n",
    "even_or_odd(23)\t"
   ]
  },
  {
   "cell_type": "code",
   "execution_count": null,
   "id": "020369dc",
   "metadata": {},
   "outputs": [
    {
     "name": "stdout",
     "output_type": "stream",
     "text": [
      "25\n"
     ]
    }
   ],
   "source": [
    "##multiple parameters\n",
    "def add(a, b):\n",
    "\treturn a+b\n",
    "result=add(10, 15)\n",
    "print(result)\n"
   ]
  },
  {
   "cell_type": "code",
   "execution_count": null,
   "id": "cc1804be",
   "metadata": {},
   "outputs": [
    {
     "name": "stdout",
     "output_type": "stream",
     "text": [
      "Helo Mrinmoy welcome to the world of python\n"
     ]
    }
   ],
   "source": [
    "\n",
    "def greet(name):\n",
    "     print(f\"Hello {name} welcome to the world of python\")\n",
    "greet(\"Mrinmoy\")     "
   ]
  },
  {
   "cell_type": "code",
   "execution_count": null,
   "id": "16d3607a",
   "metadata": {},
   "outputs": [
    {
     "name": "stdout",
     "output_type": "stream",
     "text": [
      "Helo Guest welcome to the world of python\n"
     ]
    }
   ],
   "source": [
    "## default parameters\n",
    "def greet(name=\"Guest\"):\n",
    "     print(f\"Hello {name} welcome to the world of python\")\n",
    "greet() "
   ]
  },
  {
   "cell_type": "code",
   "execution_count": 6,
   "id": "906e3e84",
   "metadata": {},
   "outputs": [
    {
     "name": "stdout",
     "output_type": "stream",
     "text": [
      "1\n",
      "2\n",
      "3\n",
      "4\n",
      "5\n",
      "6\n",
      "7\n",
      "LLM\n"
     ]
    }
   ],
   "source": [
    "## variable length arguments\n",
    "## positocal and keyword arguments\n",
    "\n",
    "def print_nmbers(*arges):\n",
    "\tfor i in arges:\n",
    "\t\tprint(i)\n",
    "print_nmbers(1,2,3,4,5,6,7,'LLM')\t\t"
   ]
  },
  {
   "cell_type": "code",
   "execution_count": 8,
   "id": "f56d0661",
   "metadata": {},
   "outputs": [
    {
     "name": "stdout",
     "output_type": "stream",
     "text": [
      "name:Mrinmoy\n",
      "age:31\n",
      "city:Sorbhog\n"
     ]
    }
   ],
   "source": [
    "## positocal and keyword arguments\n",
    "def print_details(**kwargs):\n",
    "\tfor key, value in kwargs.items():\n",
    "\t\tprint(f\"{key}:{value}\")\n",
    "print_details(name=\"Mrinmoy\", age=31, city=\"Sorbhog\")\t\t"
   ]
  }
 ],
 "metadata": {
  "kernelspec": {
   "display_name": "Python 3",
   "language": "python",
   "name": "python3"
  },
  "language_info": {
   "codemirror_mode": {
    "name": "ipython",
    "version": 3
   },
   "file_extension": ".py",
   "mimetype": "text/x-python",
   "name": "python",
   "nbconvert_exporter": "python",
   "pygments_lexer": "ipython3",
   "version": "3.12.0"
  }
 },
 "nbformat": 4,
 "nbformat_minor": 5
}
